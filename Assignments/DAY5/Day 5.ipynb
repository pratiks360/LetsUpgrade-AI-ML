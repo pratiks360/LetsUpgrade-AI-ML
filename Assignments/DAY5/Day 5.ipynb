{
 "cells": [
  {
   "cell_type": "markdown",
   "metadata": {},
   "source": [
    "DAY 5 Assignments\n",
    "\n",
    "Author: Pratik Shukla Email: pratiks360@gmail.com\n",
    "\n",
    "For educational purposes only"
   ]
  },
  {
   "cell_type": "markdown",
   "metadata": {},
   "source": [
    "Question 1 :\n",
    "Write a Python program to find the first 20 non-even prime natural numbers."
   ]
  },
  {
   "cell_type": "code",
   "execution_count": 1,
   "metadata": {},
   "outputs": [
    {
     "name": "stdout",
     "output_type": "stream",
     "text": [
      "3\n",
      "5\n",
      "7\n",
      "11\n",
      "13\n",
      "17\n",
      "19\n",
      "23\n",
      "29\n",
      "31\n",
      "37\n",
      "41\n",
      "43\n",
      "47\n",
      "53\n",
      "59\n",
      "61\n",
      "67\n",
      "71\n",
      "73\n"
     ]
    }
   ],
   "source": [
    "number = 75\n",
    "for num in range(2,number + 1):\n",
    "       if num > 1:\n",
    "            for i in range(2,num):\n",
    "                if (num % i) == 0:\n",
    "                     break\n",
    "            else:\n",
    "                if(num%2!=0):\n",
    "                    print(num)"
   ]
  },
  {
   "cell_type": "markdown",
   "metadata": {},
   "source": [
    "Question 2 :\n",
    "Write a Python program to implement 15 functions of string."
   ]
  },
  {
   "cell_type": "code",
   "execution_count": 2,
   "metadata": {},
   "outputs": [
    {
     "name": "stdout",
     "output_type": "stream",
     "text": [
      "['Welcome', 'to', 'Python']\n",
      " Python\n",
      "10\n",
      "6\n",
      "WELCOME TO PYTHON\n",
      "True\n",
      "2\n",
      "True\n",
      "Python is good is equal to Python is good\n",
      "Python is good is NOT equal to Python good\n",
      "Welcome to mypy\n",
      "aBCDBCa\n",
      "abcdbca\n",
      "b'Hello'\n",
      "String ='  abc  '\n",
      "After Removing Leading Whitespaces String ='abc  '\n",
      "After Removing Trailing Whitespaces String ='  abc'\n",
      "After Trimming Whitespaces String ='abc'\n"
     ]
    }
   ],
   "source": [
    "value = 'Welcome to Python'\n",
    "print(value.split())\n",
    "\n",
    "value = 'Welcome to Python'\n",
    "text = value[10:]\n",
    "print(text)\n",
    "\n",
    "msg = 'Python is easy'\n",
    "a = msg.find(\"easy\")\n",
    "print(a)\n",
    "\n",
    "msg = 'Python'\n",
    "print(len(msg))\n",
    "\n",
    "msg = \"welcome to python\"\n",
    "print(msg.upper())\n",
    "\n",
    "msg = \"Hi Ganesh\"\n",
    "store = msg.startswith('Hi')\n",
    "print(store)\n",
    "\n",
    "msg = \"John is good but John talk less\"\n",
    "store = msg.count(\"John\")\n",
    "print(store)\n",
    "\n",
    "msg = \"Hello John, how are you\"\n",
    "store = ('how' in msg)\n",
    "print(store)\n",
    "\n",
    "name1 = 'Python is good'\n",
    "name2 = 'Python is good'\n",
    "if name1 == name2:\n",
    "    print(name1,'is equal to',name2)\n",
    "\n",
    "name1 = 'Python is good'\n",
    "name2 = 'Python good'\n",
    "if name1 != name2:\n",
    "    print(name1,'is NOT equal to',name2)\n",
    "\n",
    "s = 'WelCome to MyPy'\n",
    "print(s.capitalize())\n",
    "\n",
    "s = 'ABCDBCA'\n",
    "translation = s.maketrans('A', 'a')\n",
    "print(s.translate(translation))\n",
    "translation = s.maketrans('ABCD', 'abcd')\n",
    "print(s.translate(translation))\n",
    "\n",
    "str_original = 'Hello'\n",
    "bytes_encoded = str_original.encode(encoding='utf-8')\n",
    "print((bytes_encoded))\n",
    "\n",
    "s1 = '  abc  '\n",
    "print(f'String =\\'{s1}\\'')\n",
    "print(f'After Removing Leading Whitespaces String =\\'{s1.lstrip()}\\'')\n",
    "print(f'After Removing Trailing Whitespaces String =\\'{s1.rstrip()}\\'')\n",
    "print(f'After Trimming Whitespaces String =\\'{s1.strip()}\\'')"
   ]
  },
  {
   "cell_type": "markdown",
   "metadata": {},
   "source": [
    "Question 3:\n",
    "Write a Python program to check if the given string is a Palindrome or Anagram or None of them.\n",
    "Display the message accordingly to the user."
   ]
  },
  {
   "cell_type": "code",
   "execution_count": 9,
   "metadata": {},
   "outputs": [
    {
     "name": "stdout",
     "output_type": "stream",
     "text": [
      "Palindrome\n",
      "\n"
     ]
    }
   ],
   "source": [
    "def isPalindrome(s): \n",
    "    return s == s[::-1] \n",
    "\n",
    "def isAnagram(str1, str2):\n",
    "    list_str1 = list(str1)\n",
    "    list_str1.sort()\n",
    "    list_str2 = list(str2)\n",
    "    list_str2.sort()\n",
    "\n",
    "    return (list_str1 == list_str2)\n",
    "\n",
    "\n",
    "str1 = \"mom\"\n",
    "str2 = \"mopm\"\n",
    "\n",
    "if(isPalindrome(str1)):\n",
    "    print(\"Palindrome\\n\")\n",
    "if(isAnagram(str1,str2)):\n",
    "    print(\"Anagram\")"
   ]
  },
  {
   "cell_type": "markdown",
   "metadata": {},
   "source": [
    "Question 4:\n",
    "Write a Python's user defined function that removes all the additional characters from the string\n",
    "and converts it finally to lower case using built-in lower(). eg: If the string is \"Dr. Darshan Ingle\n",
    "@AI-ML Trainer\", then the output be \"drdarshaningleaimltrainer\"."
   ]
  },
  {
   "cell_type": "code",
   "execution_count": 10,
   "metadata": {},
   "outputs": [
    {
     "name": "stdout",
     "output_type": "stream",
     "text": [
      "drdarshaningleaimltrainer\n"
     ]
    }
   ],
   "source": [
    "def formatString(org_string):\n",
    "    list_of_char = ['.', '@', ' ','-']\n",
    "    # Remove all occurrence of a characters 's', 'a' & 'i' from the string\n",
    "    mod_string = org_string.translate( {ord(elem): None for elem in list_of_char} )\n",
    "    return mod_string.lower()\n",
    "\n",
    "org_string = \"Dr. Darshan Ingle @AI-ML Trainer\"\n",
    "# Remove all occurrence of a character '. @ spaces' from the string\n",
    "\n",
    "print(formatString(org_string))"
   ]
  },
  {
   "cell_type": "code",
   "execution_count": null,
   "metadata": {},
   "outputs": [],
   "source": []
  }
 ],
 "metadata": {
  "kernelspec": {
   "display_name": "Python 3",
   "language": "python",
   "name": "python3"
  },
  "language_info": {
   "codemirror_mode": {
    "name": "ipython",
    "version": 3
   },
   "file_extension": ".py",
   "mimetype": "text/x-python",
   "name": "python",
   "nbconvert_exporter": "python",
   "pygments_lexer": "ipython3",
   "version": "3.7.6"
  }
 },
 "nbformat": 4,
 "nbformat_minor": 4
}
