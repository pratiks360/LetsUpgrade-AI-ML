{
 "cells": [
  {
   "cell_type": "markdown",
   "metadata": {},
   "source": [
    "DAY 3 Assignments\n",
    "\n",
    "Author: Pratik Shukla\n",
    "Email: pratiks360@gmail.com\n",
    "\n",
    "For educational purposes only\n",
    "\n"
   ]
  },
  {
   "cell_type": "markdown",
   "metadata": {},
   "source": [
    "Question 1 :\n",
    "Write a program to subtract two complex numbers in Python."
   ]
  },
  {
   "cell_type": "code",
   "execution_count": 1,
   "metadata": {},
   "outputs": [
    {
     "name": "stdout",
     "output_type": "stream",
     "text": [
      "(5+5j)\n"
     ]
    }
   ],
   "source": [
    "a = 10 + 15j\n",
    "b = 5 + 10j\n",
    "result = a-b\n",
    "print(result)\n"
   ]
  },
  {
   "cell_type": "markdown",
   "metadata": {},
   "source": [
    "Question 2 : Write a program to find the fourth root of a number."
   ]
  },
  {
   "cell_type": "code",
   "execution_count": 13,
   "metadata": {},
   "outputs": [
    {
     "name": "stdout",
     "output_type": "stream",
     "text": [
      "2.8284271247461903\n"
     ]
    }
   ],
   "source": [
    "x = 64 ** 0.25\n",
    "print(x)"
   ]
  },
  {
   "cell_type": "markdown",
   "metadata": {},
   "source": [
    "Write a program to swap two numbers in Python with the help of a temporary variable. "
   ]
  },
  {
   "cell_type": "code",
   "execution_count": 16,
   "metadata": {},
   "outputs": [
    {
     "name": "stdout",
     "output_type": "stream",
     "text": [
      "5 3\n"
     ]
    }
   ],
   "source": [
    "x = 3\n",
    "y = 5 \n",
    "z = 0 \n",
    "\n",
    "z = x\n",
    "x = y \n",
    "y = z\n",
    "print(x,y)"
   ]
  },
  {
   "cell_type": "markdown",
   "metadata": {},
   "source": [
    "Write a program to swap two numbers in Python without using a temporary variable."
   ]
  },
  {
   "cell_type": "code",
   "execution_count": 15,
   "metadata": {},
   "outputs": [
    {
     "name": "stdout",
     "output_type": "stream",
     "text": [
      "5 3\n"
     ]
    }
   ],
   "source": [
    "x = 3 \n",
    "y = 5 \n",
    "x, y = y,x\n",
    "print(x,y)"
   ]
  },
  {
   "cell_type": "markdown",
   "metadata": {},
   "source": [
    "Question 5: Write a program to convert fahrenheit to kelvin and celsius both."
   ]
  },
  {
   "cell_type": "code",
   "execution_count": 21,
   "metadata": {},
   "outputs": [
    {
     "name": "stdout",
     "output_type": "stream",
     "text": [
      "433.5\n",
      "160.0\n"
     ]
    }
   ],
   "source": [
    "fahrenheit = 320\n",
    "kelvin = 273.5 + ((fahrenheit - 32.0) * (5.0/9.0))\n",
    "print(kelvin)\n",
    "celsius = (fahrenheit - 32) * 5/9\n",
    "print(celsius)"
   ]
  },
  {
   "cell_type": "markdown",
   "metadata": {},
   "source": [
    "Question 6: Write a program to demonstrate all the available data types in Python. Hint: Use type() function. "
   ]
  },
  {
   "cell_type": "code",
   "execution_count": 25,
   "metadata": {},
   "outputs": [
    {
     "name": "stdout",
     "output_type": "stream",
     "text": [
      "<class 'complex'> # <class 'int'> <class 'float'> # <class 'bool'> <class 'str'> # <class 'list'> <class 'set'> # <class 'tuple'> # <class 'dict'>\n"
     ]
    }
   ],
   "source": [
    "x1 = a \n",
    "x2 = 8 \n",
    "x3 = 8.2\n",
    "x4 = True\n",
    "x5 = 'Hello'\n",
    "x6 = [1,2,3,6,7]\n",
    "x7 = {1,2,3,4,5}\n",
    "x8 = (1,2,3,4,5)\n",
    "x9 = {\"Name\": \"Pooja\", \"Name\":\"Pratik\"}\n",
    "print(type(x1),\"#\",type(x2),type(x3),\"#\",type(x4),type(x5),\"#\",type(x6),type(x7),\"#\",type(x8),\"#\",type(x9))\n",
    "\n",
    "\n"
   ]
  },
  {
   "cell_type": "markdown",
   "metadata": {},
   "source": [
    "Question 7: Create a Markdown cell in jupyter and list the steps discussed in the session by Dr. Darshan Ingle sir to create Github profile and upload Githubs Assignment link."
   ]
  },
  {
   "cell_type": "markdown",
   "metadata": {},
   "source": [
    " Step 1: Sign up to github if you dont have an account.\n",
    " Step 2: Create a folder named by number of day you are doing the assignment and put the assignment in that folder.\n",
    " Step 3: Go to new option near Repository and create a new repository named LetsUpgrade-AI-ML\n",
    " Step 4: Go to \"upload an existing file\" option\n",
    " step 5: Drag and drop the folder and click on comit changes\n",
    " Step 6: Copy the link of the file and paste it in the assignment submission file\n"
   ]
  }
 ],
 "metadata": {
  "kernelspec": {
   "display_name": "Python 3",
   "language": "python",
   "name": "python3"
  },
  "language_info": {
   "codemirror_mode": {
    "name": "ipython",
    "version": 3
   },
   "file_extension": ".py",
   "mimetype": "text/x-python",
   "name": "python",
   "nbconvert_exporter": "python",
   "pygments_lexer": "ipython3",
   "version": "3.7.6"
  }
 },
 "nbformat": 4,
 "nbformat_minor": 4
}
